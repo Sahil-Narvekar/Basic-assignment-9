{
 "cells": [
  {
   "cell_type": "code",
   "execution_count": null,
   "metadata": {},
   "outputs": [],
   "source": [
    "1. To what does a relative path refer?\n",
    "The relative path is path to some file with respect to my current directory(PWD).\n",
    "Absolute path=\"C:\\Users\\Sahil\\Downloads\\basic assignment 6.ipynb\"\n",
    "If I am already in folder Sahil(PWD) that is if PWD=\"C:\\Users\\Sahil\"\n",
    "then my relative path would be \"Downloads\\basic assignment 6.ipynb\"\n",
    "Hence PWD + relative path =Absolute path"
   ]
  },
  {
   "cell_type": "code",
   "execution_count": null,
   "metadata": {},
   "outputs": [],
   "source": [
    "2. What is the first step on an absolute path?\n",
    "An absolute file path describes how to access give file or directory starting from root of the file sysytem.\n",
    "In windows a full file directory path starts with a drive letter either C: or D: and in LINUX or OS-X starts \n",
    "with \"/\" . The path will begin with home directory of the computer and end with file you want to access.                                  "
   ]
  },
  {
   "cell_type": "code",
   "execution_count": null,
   "metadata": {},
   "outputs": [],
   "source": [
    "3. On Windows, what does Path('C:/Users') / 'Al' evaluate to?\n",
    "The path ('C:/Users') / 'Al' defines the home directory ,this directory is defined by operating system.\n",
    "The home directory is the primary directory for the user account of the computer.Files by default are \n",
    "stored in home directory."
   ]
  },
  {
   "cell_type": "code",
   "execution_count": null,
   "metadata": {},
   "outputs": [],
   "source": [
    "5. What do the functions os.getcwd() and os.chdir() do?\n",
    "os.getcwd() :Here CWD stands for Current Working Directory.This allows us to see what our current working\n",
    "             directory is.\n",
    "os.chdir():It is used for changing directory,this funcyion allows to set the current working directory to \n",
    "           path of choice.\n",
    "    "
   ]
  },
  {
   "cell_type": "code",
   "execution_count": null,
   "metadata": {},
   "outputs": [],
   "source": [
    "6. What is the difference between the. and.. folders?\n",
    "These path cmponents are shortcuta\n",
    ". means current path level(so if we are on index.aspx and your reference.//style.css then the \n",
    "  latter would have to be in the same folder as the former)\n",
    " .. means one path level up (so if we are on somefolder/index.aspx and we reference ../style.css\n",
    "    then the latter would have to be in the parent folder of somefolder)\n"
   ]
  },
  {
   "cell_type": "code",
   "execution_count": null,
   "metadata": {},
   "outputs": [],
   "source": [
    "7. Which part of C:baconeggsspam.txt is the dir name and which part is the base name?\n",
    "os.path.basename('C:baconeggsspam.txt'):This command can be used to get base  name.\n",
    "                                       'baconeggsspam.txt' is the base name\n",
    "    \n",
    "    \n",
    "os.path.dirname('C:baconeggsspam.txt'):This command can be used to get directory name.\n",
    "                                       'C:' is the dir name"
   ]
  },
  {
   "cell_type": "code",
   "execution_count": null,
   "metadata": {},
   "outputs": [],
   "source": [
    "8. What are the three “mode” arguments that the open() function accepts?\n",
    "3  mode arguments are read write and append\n",
    "read:file=open('hi.txt','r') This will open the file in read mode,\n",
    "     file.read(5) can be used to read first 5 characters of stored data\n",
    "\n",
    "write:file=open('hi.txt','w') This will open the file in write mode,\n",
    "     file.write('hey there') can be used to write 'hey there' in python\n",
    "    file.close()            environment.\n",
    "    \n",
    "append:file=open('hey.txt','a')This will open the file in append mode,\n",
    "     file.write('hey there') can be used to write 'hey there' at end\n",
    "    file.close()          of the file(append) in python environment.\n",
    "\n",
    "                   "
   ]
  },
  {
   "cell_type": "code",
   "execution_count": null,
   "metadata": {},
   "outputs": [],
   "source": [
    "9. What happens if you open existing file in write mode?\n",
    "If a file with same name already exists ,its content will be discarded \n",
    "and file will be treated as empty new file.\n"
   ]
  },
  {
   "cell_type": "code",
   "execution_count": null,
   "metadata": {},
   "outputs": [],
   "source": [
    "10. How do you tell the difference between read() and readlines()?\n",
    "\n",
    "read() would treat each character in the file separately, meaning\n",
    "that the iteration would happen for every character. \n",
    " readline() method returns one line from the file. You can also\n",
    "specified how many bytes from the line to return, by using the size parameter.\n",
    "\n",
    "If a file contains 100 character strings,made up of 10 lines then read()\n",
    "would read every character separately however readline() would only read \n",
    "the first line of the file."
   ]
  },
  {
   "cell_type": "code",
   "execution_count": null,
   "metadata": {},
   "outputs": [],
   "source": [
    "11. How does a shelf value resemble a data structure?\n",
    "The shelf object defined in shelve module is dictionary-like object which \n",
    "is persistently stored in a disk file. This creates a file similar to dbm database\n",
    "on UNIX like systems. Only string data type can be used as key in this special \n",
    "dictionary object, whereas any picklable object can serve as value."
   ]
  }
 ],
 "metadata": {
  "kernelspec": {
   "display_name": "Python 3",
   "language": "python",
   "name": "python3"
  },
  "language_info": {
   "codemirror_mode": {
    "name": "ipython",
    "version": 3
   },
   "file_extension": ".py",
   "mimetype": "text/x-python",
   "name": "python",
   "nbconvert_exporter": "python",
   "pygments_lexer": "ipython3",
   "version": "3.8.3"
  }
 },
 "nbformat": 4,
 "nbformat_minor": 4
}
